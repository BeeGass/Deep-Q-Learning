{
  "nbformat": 4,
  "nbformat_minor": 0,
  "metadata": {
    "colab": {
      "name": "DQN.ipynb",
      "provenance": [],
      "collapsed_sections": [],
      "authorship_tag": "ABX9TyP/nl07MDGCcfe/G4iLsIB+",
      "include_colab_link": true
    },
    "kernelspec": {
      "name": "python3",
      "display_name": "Python 3"
    }
  },
  "cells": [
    {
      "cell_type": "markdown",
      "metadata": {
        "id": "view-in-github",
        "colab_type": "text"
      },
      "source": [
        "<a href=\"https://colab.research.google.com/github/BeeGassy/Deep_Q-Learning/blob/main/DQN.ipynb\" target=\"_parent\"><img src=\"https://colab.research.google.com/assets/colab-badge.svg\" alt=\"Open In Colab\"/></a>"
      ]
    },
    {
      "cell_type": "code",
      "metadata": {
        "id": "xfsr21qloAQl"
      },
      "source": [
        "import torch\n",
        "from torchvision import transforms as T\n",
        "import numpy as np\n",
        "import matplotlib.pyplot as plt\n",
        "import gym"
      ],
      "execution_count": null,
      "outputs": []
    },
    {
      "cell_type": "code",
      "metadata": {
        "id": "p746VD8tIlyz"
      },
      "source": [
        "\n",
        "\n"
      ],
      "execution_count": null,
      "outputs": []
    },
    {
      "cell_type": "code",
      "metadata": {
        "id": "iPYqt0JBEtgR"
      },
      "source": [
        "class Agent():\n",
        "  replay_buffer_list = []\n",
        "  \n",
        "  def __init__(self, size):\n",
        "    self.rb_size = size\n",
        "\n",
        "  def action_value():\n",
        "    \n",
        "    pass\n",
        "\n",
        "  def the_policy():\n",
        "    pass\n",
        "\n",
        "  def q_loss():\n",
        "\n",
        "    pass\n",
        "\n",
        "  def q_prime():\n",
        "    pass\n",
        "\n",
        "  def preprocess_transition():\n",
        "    pass\n",
        "\n",
        "  def SGD(input_y_j, input_action_value):\n",
        "    pass\n",
        "  \n",
        "\n",
        "   "
      ],
      "execution_count": null,
      "outputs": []
    },
    {
      "cell_type": "code",
      "metadata": {
        "colab": {
          "base_uri": "https://localhost:8080/",
          "height": 129
        },
        "id": "7EMBVNGvT7Nh",
        "outputId": "be8c7f01-ddb2-4d4d-98d7-00c535e5d954"
      },
      "source": [
        "class DQN():\n",
        "  DEFAULT_ENV_NAME = “PongNoFrameskip-v4”\n",
        "  test_env = gym.make(DEFAULT_ENV_NAME)\n",
        "  episodes = 400\n",
        "  time_in_episode = 100\n",
        "  epsilon = 0.5\n",
        "\n",
        "  def DQN(self, test_env, episodes, time_in_episode, epsilon):\n",
        "    self.test_env = test_env\n",
        "    self.episodes = episodes\n",
        "    self.time_in_episode = time_in_episode\n",
        "    self.epsilon = epsilon\n",
        "\n",
        "  def emulator(self):\n",
        "    state = self.test_env.reset()\n",
        "    action = self.test_env.action_space.sample()\n",
        "    observation, reward, _, _ = self.test_env.step(action)\n",
        "    transition = (state, action, observation, reward)\n",
        "    Agent.replay_buffer_list.insert(transition)\n",
        "\n",
        "    return transition\n",
        "\n",
        "  def random_action():\n",
        "    action = self.test_env.action_space.sample()\n",
        "    observation, reward, done, _ = self.test_env.step(action)\n",
        "    transition = (state, action, observation, reward, done)\n",
        "    Agent.replay_buffer_list.insert(state, action, observation, reward)\n",
        "\n",
        "    return transition\n",
        "\n",
        "  def preprocessing(self, input_observation):\n",
        "    np_observation = np.transpose(observation, (0, 3, 1, 2))\n",
        "    copy_observation = np_observation.copy()\n",
        "    torch_observation = torch.tensor(copy_observation, dtype=torch.float)\n",
        "    transform = T.Grayscale()\n",
        "    grey_scaled_observation = transform(torch_observation)\n",
        "\n",
        "    return grey_scaled_observation\n",
        "\n",
        "  def stack_frames(self, input_env, stack_count):\n",
        "    enviroment = gym.FrameStack(input_env, stack_count)\n",
        "\n",
        "    return enviroment\n",
        "    \n",
        "  \n",
        "  def dqn(self):\n",
        "    re_buff = Agent.replay_buffer()\n",
        "    initial_transition = emulator()\n",
        "    state, action, observation, reward, _ = *initial_transition\n",
        "\n",
        "    for e in range(episodes):\n",
        "      self.test_env = stack_frames(self.test_env, 4)\n",
        "      grey_scaled_observation = preprocessing(observation)\n",
        "\n",
        "      for time_step in range(time_in_episode):\n",
        "        random_action_prob = random.uniform(0.0, 1.0)\n",
        "        if random_action_prob < epsilon:\n",
        "          random_action()\n",
        "        else: \n",
        "          action_at_time_step = action_value() # TODO \n",
        "          #get max Q(s,a)\n",
        "          transition = emulator()\n",
        "          state, action, observation, reward, done = *transition\n",
        "          grey_scaled_observation = preprocessing(observation)\n",
        "\n",
        "          if done == True:\n",
        "            #get final reward and set to y_j\n",
        "            pass\n",
        "          else:\n",
        "            # y_j = r_J + (gamma * max Q(s,a))\n",
        "            pass\n",
        "\n",
        "          \n",
        "          Agent.SGD(y_j, action_value())\n",
        "          epsilon = epsilon + 1/\n"
      ],
      "execution_count": null,
      "outputs": [
        {
          "output_type": "error",
          "ename": "IndentationError",
          "evalue": "ignored",
          "traceback": [
            "\u001b[0;36m  File \u001b[0;32m\"<ipython-input-7-cc003354c755>\"\u001b[0;36m, line \u001b[0;32m11\u001b[0m\n\u001b[0;31m    else:\u001b[0m\n\u001b[0m       ^\u001b[0m\n\u001b[0;31mIndentationError\u001b[0m\u001b[0;31m:\u001b[0m expected an indented block\n"
          ]
        }
      ]
    },
    {
      "cell_type": "code",
      "metadata": {
        "id": "ZctRc3xKa0sW"
      },
      "source": [
        "def emulator():\n",
        "  pass"
      ],
      "execution_count": null,
      "outputs": []
    }
  ]
}