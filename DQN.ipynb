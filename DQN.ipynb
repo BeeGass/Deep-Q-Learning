{
  "nbformat": 4,
  "nbformat_minor": 0,
  "metadata": {
    "colab": {
      "name": "DQN.ipynb",
      "provenance": [],
      "collapsed_sections": [],
      "authorship_tag": "ABX9TyM5umEy8qxnsdIzV+2qQ/sg",
      "include_colab_link": true
    },
    "kernelspec": {
      "name": "python3",
      "display_name": "Python 3"
    }
  },
  "cells": [
    {
      "cell_type": "markdown",
      "metadata": {
        "id": "view-in-github",
        "colab_type": "text"
      },
      "source": [
        "<a href=\"https://colab.research.google.com/github/BeeGassy/Deep_Q-Learning/blob/main/DQN.ipynb\" target=\"_parent\"><img src=\"https://colab.research.google.com/assets/colab-badge.svg\" alt=\"Open In Colab\"/></a>"
      ]
    },
    {
      "cell_type": "code",
      "metadata": {
        "id": "xfsr21qloAQl"
      },
      "source": [
        "import torch\n",
        "import torch.nn as nn\n",
        "from torchvision import transforms as T\n",
        "import numpy as np\n",
        "import matplotlib.pyplot as plt\n",
        "import gym"
      ],
      "execution_count": 1,
      "outputs": []
    },
    {
      "cell_type": "code",
      "metadata": {
        "id": "p746VD8tIlyz"
      },
      "source": [
        "class Model(nn.Module):\n",
        "    #takes the # of frames stacked and the possible outputs (move right, left, etc)\n",
        "    def __init__(self, numberStacked, possibleOutputs):\n",
        "        hiddenKernels = 16\n",
        "        \n",
        "        #sizePostConvolution = #figure this out, depends on how we modify the env\n",
        "        self.conv1 = nn.Conv2d(numberStacked, hiddenKernels, 2)\n",
        "        self.rl = nn.ReLU()\n",
        "        self.conv2 = nn.Conv2d(hiddenKernels, hiddenKernels, 2)\n",
        "        self.fc1 = nn.Linear(sizePostConvolution, possibleOutputs)\n",
        "\n",
        "    def forward(self, stackedState):\n",
        "        x = self.conv1(stackedState)\n",
        "        x = self.rl(x)\n",
        "        x = self.conv2(stackedState)\n",
        "        print(x.size())\n",
        "        x = torch.view(-1, x.size()[1] * x.size()[2] * x.size()[3])\n",
        "        x = self.fc1(x)\n",
        "        return x"
      ],
      "execution_count": 2,
      "outputs": []
    },
    {
      "cell_type": "code",
      "metadata": {
        "id": "iPYqt0JBEtgR"
      },
      "source": [
        "class Agent():\n",
        "  replay_buffer_list = []\n",
        "\n",
        "  def __init__(self, size, numberStacked, possibleOutputs):\n",
        "    self.rb_size = size\n",
        "    self.n = Model(4, len(DQN.test_env.action_space))\n",
        "\n",
        "  def action_value(input_images):\n",
        "    output = self.n(input_images)\n",
        "    print(output)\n",
        "    action = torch.argmax(output)\n",
        "    return action\n",
        "\n",
        "  def sample_replay_buffer(self, batch_size):\n",
        "    perm = torch.tensor(self.replay_buffer_list)\n",
        "    idx = perm[:batch_size]\n",
        "    samples = tensor[idx]\n",
        "    return samples\n",
        "\n",
        "  def SGD(input_y_j, input_mini_batch):\n",
        "    current_reward = torch.tensor(input_y_j, requires_grad=True)\n",
        "    size = len(input_mini_batch)\n",
        "    for batch in input_mini_batch:\n",
        "      state, action, observation, reward, done = batch\n",
        "\n",
        "      loss = torch.nn.MSELoss(self.n(observation), current_reward)\n",
        "      loss_prime = loss.backward()\n",
        "\n",
        "    return loss\n",
        "        \n",
        "    \n",
        "  \n",
        "\n",
        "   "
      ],
      "execution_count": 3,
      "outputs": []
    },
    {
      "cell_type": "code",
      "metadata": {
        "id": "7EMBVNGvT7Nh"
      },
      "source": [
        "class DQN():\n",
        "  DEFAULT_ENV_NAME = 'PongNoFrameskip-v4'\n",
        "  test_env = gym.make(DEFAULT_ENV_NAME)\n",
        "  episodes = 400\n",
        "  time_in_episode = 1000000\n",
        "  epsilon = 0.5\n",
        "  batch_size = 32\n",
        "\n",
        "  def DQN(self, test_env, episodes, time_in_episode, epsilon):\n",
        "    self.test_env = test_env\n",
        "    self.episodes = episodes\n",
        "    self.time_in_episode = time_in_episode\n",
        "    self.epsilon = epsilon\n",
        "\n",
        "  def emulator(self):\n",
        "    state = self.test_env.reset()\n",
        "    action = self.test_env.action_space.sample()\n",
        "    observation, reward, _, _ = self.test_env.step(action)\n",
        "    transition = (state, action, observation, reward)\n",
        "\n",
        "    return transition\n",
        "\n",
        "  def execute_action(self, input_action):\n",
        "    observation, reward, done, _ = self.test_env.step(input_action)\n",
        "    transition = (state, action, observation, reward, done)\n",
        "    Agent.replay_buffer_list.insert(state, action, observation, reward)\n",
        "\n",
        "    return transition\n",
        "\n",
        "  def preprocessing(self, input_observation):\n",
        "    np_observation = np.transpose(observation, (0, 3, 1, 2))\n",
        "    copy_observation = np_observation.copy()\n",
        "    torch_observation = torch.tensor(copy_observation, dtype=torch.float)\n",
        "    transform = T.Grayscale()\n",
        "    grey_scaled_observation = transform(torch_observation)\n",
        "\n",
        "    return grey_scaled_observation\n",
        "\n",
        "  def stack_frames(self, input_env, stack_count):\n",
        "    enviroment = gym.FrameStack(input_env, stack_count)\n",
        "\n",
        "    return enviroment\n",
        "    \n",
        "  \n",
        "  def dqn(self):\n",
        "    re_buff = Agent.replay_buffer()\n",
        "    rewardVal = -1\n",
        "\n",
        "    for e in range(episodes):\n",
        "      rewardVal = 0\n",
        "      \n",
        "      #initialize episode and get first transition\n",
        "      initial_transition = emulator()\n",
        "      state, action, observation, reward, _ = initial_transition\n",
        "\n",
        "      #preprocess data\n",
        "      self.test_env = stack_frames(self.test_env, 4)\n",
        "      grey_scaled_observation = preprocessing(observation)\n",
        "\n",
        "      for time_step in range(time_in_episode):\n",
        "        random_action_prob = random.uniform(0.0, 1.0)\n",
        "        if random_action_prob < epsilon:\n",
        "          action()\n",
        "        else: \n",
        "          action_at_time_step = action_value(grey_scaled_observation)\n",
        "          transition = execute_action(action_at_time_step)\n",
        "          state, action, observation, reward, done = transition\n",
        "          grey_scaled_observation = preprocessing(observation)\n",
        "          re_buff.append(grey_scaled_observation)\n",
        "          mini_batch = Agent.sample_replay_buffer(self.batch_size)\n",
        "\n",
        "          if not done:\n",
        "            rewardVal += (gamma * reward) \n",
        "\n",
        "          Agent.SGD(rewardVal, mini_batch)\n",
        "          epsilon_decay_rate = max((e - time_step) / e, 0)\n",
        "          epsilon -= epsilon_decay_rate\n",
        "          \n",
        "    if e % 100 == 0 and e > 0:\n",
        "      self.test_env.render()    \n",
        "\n",
        "  def main(self):\n",
        "    dqn()\n",
        "\n"
      ],
      "execution_count": 4,
      "outputs": []
    },
    {
      "cell_type": "code",
      "metadata": {
        "id": "KkY_6X-TnRyB"
      },
      "source": [
        "if __name__ == \"__main__\":\n",
        "  torch.device(\"cuda\" if torch.cuda.is_available() else \"cpu\")\n",
        "  DQN.main()\n"
      ],
      "execution_count": null,
      "outputs": []
    }
  ]
}