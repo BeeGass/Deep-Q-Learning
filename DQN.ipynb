{
  "nbformat": 4,
  "nbformat_minor": 0,
  "metadata": {
    "colab": {
      "name": "DQN.ipynb",
      "provenance": [],
      "collapsed_sections": [],
      "authorship_tag": "ABX9TyMwdawFsBtinG232Ug/6T90",
      "include_colab_link": true
    },
    "kernelspec": {
      "name": "python3",
      "display_name": "Python 3"
    }
  },
  "cells": [
    {
      "cell_type": "markdown",
      "metadata": {
        "id": "view-in-github",
        "colab_type": "text"
      },
      "source": [
        "<a href=\"https://colab.research.google.com/github/BeeGassy/Deep_Q-Learning/blob/main/DQN.ipynb\" target=\"_parent\"><img src=\"https://colab.research.google.com/assets/colab-badge.svg\" alt=\"Open In Colab\"/></a>"
      ]
    },
    {
      "cell_type": "code",
      "metadata": {
        "id": "xfsr21qloAQl"
      },
      "source": [
        "import torch\n",
        "import numpy as np\n",
        "import matplotlib.pyplot as plt\n",
        "import gym"
      ],
      "execution_count": null,
      "outputs": []
    },
    {
      "cell_type": "code",
      "metadata": {
        "id": "-LVwZpdZWui1"
      },
      "source": [
        ""
      ],
      "execution_count": null,
      "outputs": []
    },
    {
      "cell_type": "code",
      "metadata": {
        "id": "MTPGYg1ORQdp"
      },
      "source": [
        "def optimal_action_value():\n",
        "  pass"
      ],
      "execution_count": null,
      "outputs": []
    },
    {
      "cell_type": "code",
      "metadata": {
        "id": "WEXNET6ZT9rS"
      },
      "source": [
        "def action_value():\n",
        "  pass"
      ],
      "execution_count": null,
      "outputs": []
    },
    {
      "cell_type": "code",
      "metadata": {
        "id": "NvBsyy9kUleW"
      },
      "source": [
        "def the_policy():\n",
        "  pass"
      ],
      "execution_count": null,
      "outputs": []
    },
    {
      "cell_type": "code",
      "metadata": {
        "id": "MtXRO6arTkVh"
      },
      "source": [
        "def q_loss():\n",
        "  pass"
      ],
      "execution_count": null,
      "outputs": []
    },
    {
      "cell_type": "code",
      "metadata": {
        "id": "a_FhRRevTlLg"
      },
      "source": [
        "def q_prime():\n",
        "  pass"
      ],
      "execution_count": null,
      "outputs": []
    },
    {
      "cell_type": "code",
      "metadata": {
        "id": "UfxzFREkT2Qp"
      },
      "source": [
        "def replay_buffer():\n",
        "  pass"
      ],
      "execution_count": null,
      "outputs": []
    },
    {
      "cell_type": "code",
      "metadata": {
        "colab": {
          "base_uri": "https://localhost:8080/",
          "height": 129
        },
        "id": "7EMBVNGvT7Nh",
        "outputId": "be8c7f01-ddb2-4d4d-98d7-00c535e5d954"
      },
      "source": [
        "def dqn():\n",
        "  re_buff = replay_buffer()\n",
        "  w = action_value()\n",
        "\n",
        "  for i, episode in enumerate(episodes):\n",
        "\n",
        "    for time_step in time_in_episode:\n",
        "      random_action_prob = random.uniform(0.0, 1.0)\n",
        "      if random_action_prob < epsilon:\n",
        "        #perform random action\n",
        "        pass\n",
        "      else: \n",
        "        action_at_time_step = action_value()\n",
        "        #input action input emulator and observe reward and the image associated with it\n",
        "        #set \"s_{t+1}\" transition and preprocess *idk what is said in the psuedo code\n",
        "        #store transition in replay buffer\n",
        "        #sample random minibatch of transitions from D\n",
        "        # y_j = r_J\n",
        "        # or\n",
        "        # the best next option if we are not in a terminal state\n",
        "        #perform gradient descent step on action value NOT y_j\n"
      ],
      "execution_count": null,
      "outputs": [
        {
          "output_type": "error",
          "ename": "IndentationError",
          "evalue": "ignored",
          "traceback": [
            "\u001b[0;36m  File \u001b[0;32m\"<ipython-input-7-cc003354c755>\"\u001b[0;36m, line \u001b[0;32m11\u001b[0m\n\u001b[0;31m    else:\u001b[0m\n\u001b[0m       ^\u001b[0m\n\u001b[0;31mIndentationError\u001b[0m\u001b[0;31m:\u001b[0m expected an indented block\n"
          ]
        }
      ]
    },
    {
      "cell_type": "code",
      "metadata": {
        "id": "39L4arK0YGC3"
      },
      "source": [
        ""
      ],
      "execution_count": null,
      "outputs": []
    }
  ]
}